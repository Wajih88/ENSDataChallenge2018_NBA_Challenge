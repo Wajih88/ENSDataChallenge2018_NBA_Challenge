{
 "cells": [
  {
   "cell_type": "code",
   "execution_count": 1,
   "metadata": {},
   "outputs": [],
   "source": [
    "# les packages necessaires\n",
    "import numpy as np\n",
    "import pandas as pd\n",
    "import matplotlib.pyplot as plt"
   ]
  },
  {
   "cell_type": "code",
   "execution_count": 2,
   "metadata": {},
   "outputs": [
    {
     "data": {
      "text/html": [
       "<div>\n",
       "<style scoped>\n",
       "    .dataframe tbody tr th:only-of-type {\n",
       "        vertical-align: middle;\n",
       "    }\n",
       "\n",
       "    .dataframe tbody tr th {\n",
       "        vertical-align: top;\n",
       "    }\n",
       "\n",
       "    .dataframe thead th {\n",
       "        text-align: right;\n",
       "    }\n",
       "</style>\n",
       "<table border=\"1\" class=\"dataframe\">\n",
       "  <thead>\n",
       "    <tr style=\"text-align: right;\">\n",
       "      <th></th>\n",
       "      <th>ID</th>\n",
       "      <th>score_1</th>\n",
       "      <th>offensive rebound_1</th>\n",
       "      <th>defensive rebound_1</th>\n",
       "      <th>offensive foul_1</th>\n",
       "      <th>defensive foul_1</th>\n",
       "      <th>assist_1</th>\n",
       "      <th>lost ball_1</th>\n",
       "      <th>steals_1</th>\n",
       "      <th>bad pass_1</th>\n",
       "      <th>...</th>\n",
       "      <th>offensive rebound_1440</th>\n",
       "      <th>defensive rebound_1440</th>\n",
       "      <th>offensive foul_1440</th>\n",
       "      <th>defensive foul_1440</th>\n",
       "      <th>assist_1440</th>\n",
       "      <th>lost ball_1440</th>\n",
       "      <th>steals_1440</th>\n",
       "      <th>bad pass_1440</th>\n",
       "      <th>block_1440</th>\n",
       "      <th>miss_1440</th>\n",
       "    </tr>\n",
       "  </thead>\n",
       "  <tbody>\n",
       "    <tr>\n",
       "      <th>0</th>\n",
       "      <td>14186</td>\n",
       "      <td>-2</td>\n",
       "      <td>0</td>\n",
       "      <td>0</td>\n",
       "      <td>0</td>\n",
       "      <td>0</td>\n",
       "      <td>0</td>\n",
       "      <td>0</td>\n",
       "      <td>0</td>\n",
       "      <td>0</td>\n",
       "      <td>...</td>\n",
       "      <td>8</td>\n",
       "      <td>-4</td>\n",
       "      <td>2</td>\n",
       "      <td>0</td>\n",
       "      <td>-3</td>\n",
       "      <td>3</td>\n",
       "      <td>3</td>\n",
       "      <td>-2</td>\n",
       "      <td>1</td>\n",
       "      <td>9</td>\n",
       "    </tr>\n",
       "    <tr>\n",
       "      <th>1</th>\n",
       "      <td>13013</td>\n",
       "      <td>0</td>\n",
       "      <td>0</td>\n",
       "      <td>-1</td>\n",
       "      <td>0</td>\n",
       "      <td>0</td>\n",
       "      <td>0</td>\n",
       "      <td>0</td>\n",
       "      <td>0</td>\n",
       "      <td>0</td>\n",
       "      <td>...</td>\n",
       "      <td>1</td>\n",
       "      <td>5</td>\n",
       "      <td>0</td>\n",
       "      <td>0</td>\n",
       "      <td>1</td>\n",
       "      <td>0</td>\n",
       "      <td>0</td>\n",
       "      <td>1</td>\n",
       "      <td>-2</td>\n",
       "      <td>-1</td>\n",
       "    </tr>\n",
       "    <tr>\n",
       "      <th>2</th>\n",
       "      <td>7102</td>\n",
       "      <td>0</td>\n",
       "      <td>0</td>\n",
       "      <td>0</td>\n",
       "      <td>0</td>\n",
       "      <td>0</td>\n",
       "      <td>0</td>\n",
       "      <td>0</td>\n",
       "      <td>1</td>\n",
       "      <td>1</td>\n",
       "      <td>...</td>\n",
       "      <td>-1</td>\n",
       "      <td>-5</td>\n",
       "      <td>-5</td>\n",
       "      <td>0</td>\n",
       "      <td>0</td>\n",
       "      <td>5</td>\n",
       "      <td>5</td>\n",
       "      <td>-2</td>\n",
       "      <td>3</td>\n",
       "      <td>-5</td>\n",
       "    </tr>\n",
       "    <tr>\n",
       "      <th>3</th>\n",
       "      <td>7637</td>\n",
       "      <td>-2</td>\n",
       "      <td>0</td>\n",
       "      <td>0</td>\n",
       "      <td>0</td>\n",
       "      <td>0</td>\n",
       "      <td>0</td>\n",
       "      <td>0</td>\n",
       "      <td>0</td>\n",
       "      <td>0</td>\n",
       "      <td>...</td>\n",
       "      <td>2</td>\n",
       "      <td>8</td>\n",
       "      <td>1</td>\n",
       "      <td>0</td>\n",
       "      <td>-1</td>\n",
       "      <td>-1</td>\n",
       "      <td>2</td>\n",
       "      <td>2</td>\n",
       "      <td>-1</td>\n",
       "      <td>-1</td>\n",
       "    </tr>\n",
       "    <tr>\n",
       "      <th>4</th>\n",
       "      <td>12350</td>\n",
       "      <td>0</td>\n",
       "      <td>0</td>\n",
       "      <td>0</td>\n",
       "      <td>0</td>\n",
       "      <td>0</td>\n",
       "      <td>0</td>\n",
       "      <td>0</td>\n",
       "      <td>0</td>\n",
       "      <td>0</td>\n",
       "      <td>...</td>\n",
       "      <td>4</td>\n",
       "      <td>1</td>\n",
       "      <td>0</td>\n",
       "      <td>0</td>\n",
       "      <td>4</td>\n",
       "      <td>3</td>\n",
       "      <td>2</td>\n",
       "      <td>1</td>\n",
       "      <td>1</td>\n",
       "      <td>3</td>\n",
       "    </tr>\n",
       "  </tbody>\n",
       "</table>\n",
       "<p>5 rows × 15841 columns</p>\n",
       "</div>"
      ],
      "text/plain": [
       "      ID  score_1  offensive rebound_1  defensive rebound_1  offensive foul_1  \\\n",
       "0  14186       -2                    0                    0                 0   \n",
       "1  13013        0                    0                   -1                 0   \n",
       "2   7102        0                    0                    0                 0   \n",
       "3   7637       -2                    0                    0                 0   \n",
       "4  12350        0                    0                    0                 0   \n",
       "\n",
       "   defensive foul_1  assist_1  lost ball_1  steals_1  bad pass_1    ...      \\\n",
       "0                 0         0            0         0           0    ...       \n",
       "1                 0         0            0         0           0    ...       \n",
       "2                 0         0            0         1           1    ...       \n",
       "3                 0         0            0         0           0    ...       \n",
       "4                 0         0            0         0           0    ...       \n",
       "\n",
       "   offensive rebound_1440  defensive rebound_1440  offensive foul_1440  \\\n",
       "0                       8                      -4                    2   \n",
       "1                       1                       5                    0   \n",
       "2                      -1                      -5                   -5   \n",
       "3                       2                       8                    1   \n",
       "4                       4                       1                    0   \n",
       "\n",
       "   defensive foul_1440  assist_1440  lost ball_1440  steals_1440  \\\n",
       "0                    0           -3               3            3   \n",
       "1                    0            1               0            0   \n",
       "2                    0            0               5            5   \n",
       "3                    0           -1              -1            2   \n",
       "4                    0            4               3            2   \n",
       "\n",
       "   bad pass_1440  block_1440  miss_1440  \n",
       "0             -2           1          9  \n",
       "1              1          -2         -1  \n",
       "2             -2           3         -5  \n",
       "3              2          -1         -1  \n",
       "4              1           1          3  \n",
       "\n",
       "[5 rows x 15841 columns]"
      ]
     },
     "execution_count": 2,
     "metadata": {},
     "output_type": "execute_result"
    }
   ],
   "source": [
    "df = pd.read_csv('train.csv')\n",
    "df.head()\n"
   ]
  },
  {
   "cell_type": "code",
   "execution_count": 3,
   "metadata": {},
   "outputs": [
    {
     "name": "stdout",
     "output_type": "stream",
     "text": [
      "[[-13   8  -4 ...  -2   1   9]\n",
      " [ -5   1   5 ...   1  -2  -1]\n",
      " [  5  -1  -5 ...  -2   3  -5]\n",
      " ...\n",
      " [ -9  -2  -1 ...  -1   2  -3]\n",
      " [  6  -3  -2 ...   2   3  -4]\n",
      " [-18   8  -6 ...   2   3  11]]\n"
     ]
    }
   ],
   "source": [
    "# we will try to learn from the last second\n",
    "X = df.values\n",
    "X = X[:,15830:15841]\n",
    "print(X)"
   ]
  },
  {
   "cell_type": "code",
   "execution_count": 4,
   "metadata": {},
   "outputs": [],
   "source": [
    "dfy = pd.read_csv('challenge_output_data_training_file_nba_challenge.csv',sep=';')\n",
    "Y = dfy.values\n",
    "Y = Y[:,1]"
   ]
  },
  {
   "cell_type": "code",
   "execution_count": 5,
   "metadata": {},
   "outputs": [],
   "source": [
    "from sklearn.model_selection import train_test_split\n",
    "X_train,X_test,Y_train,Y_test = train_test_split(X,Y,test_size = 0.2)"
   ]
  },
  {
   "cell_type": "code",
   "execution_count": 12,
   "metadata": {},
   "outputs": [
    {
     "data": {
      "text/plain": [
       "DecisionTreeClassifier(class_weight=None, criterion='gini', max_depth=4,\n",
       "            max_features=None, max_leaf_nodes=None,\n",
       "            min_impurity_decrease=0.0, min_impurity_split=None,\n",
       "            min_samples_leaf=1, min_samples_split=2,\n",
       "            min_weight_fraction_leaf=0.0, presort=False, random_state=None,\n",
       "            splitter='best')"
      ]
     },
     "execution_count": 12,
     "metadata": {},
     "output_type": "execute_result"
    }
   ],
   "source": [
    "# Using Decision Tree\n",
    "from sklearn.tree import DecisionTreeClassifier\n",
    "oneTree = DecisionTreeClassifier(max_depth = 4)\n",
    "oneTree.fit(X_train,Y_train)"
   ]
  },
  {
   "cell_type": "code",
   "execution_count": 13,
   "metadata": {},
   "outputs": [
    {
     "name": "stdout",
     "output_type": "stream",
     "text": [
      "0.7228628230616302\n"
     ]
    }
   ],
   "source": [
    "print(accuracy_score(Y_train,oneTree.predict(X_train)))"
   ]
  },
  {
   "cell_type": "code",
   "execution_count": 14,
   "metadata": {},
   "outputs": [],
   "source": [
    "predictions = oneTree.predict(X_test)"
   ]
  },
  {
   "cell_type": "code",
   "execution_count": 15,
   "metadata": {},
   "outputs": [
    {
     "name": "stdout",
     "output_type": "stream",
     "text": [
      "0.7261526232114467\n"
     ]
    }
   ],
   "source": [
    "from sklearn.metrics import accuracy_score\n",
    "print(accuracy_score(Y_test,predictions))"
   ]
  },
  {
   "cell_type": "code",
   "execution_count": 17,
   "metadata": {},
   "outputs": [
    {
     "name": "stdout",
     "output_type": "stream",
     "text": [
      "[1 0 0 ... 1 0 1]\n"
     ]
    }
   ],
   "source": [
    "# Learning decision tree on the whole data set\n",
    "oneTreeAll = DecisionTreeClassifier(max_depth = 4)\n",
    "oneTreeAll.fit(X,Y)\n",
    "dfTest = pd.read_csv('test.csv')\n",
    "X_Test_All = dfTest.values\n",
    "X_Test_All = X_Test_All[:,15830:15841]\n",
    "Y_pred_test = oneTreeAll.predict(X_Test_All)\n",
    "print(Y_pred_test)"
   ]
  },
  {
   "cell_type": "code",
   "execution_count": 18,
   "metadata": {},
   "outputs": [],
   "source": [
    "X_entier = dfTest.values\n",
    "Y_essai = np.array([X_entier[:,0],Y_pred_test])\n",
    "Y_essai = Y_essai.T\n",
    "np.savetxt('essaiUneSecondeDecisionTree.csv', Y_essai, delimiter=';',fmt='%i', header=\"ID;label\")"
   ]
  },
  {
   "cell_type": "code",
   "execution_count": 16,
   "metadata": {},
   "outputs": [
    {
     "data": {
      "text/plain": [
       "LogisticRegression(C=0.01, class_weight=None, dual=False, fit_intercept=True,\n",
       "          intercept_scaling=1, max_iter=100, multi_class='ovr', n_jobs=1,\n",
       "          penalty='l2', random_state=None, solver='liblinear', tol=0.0001,\n",
       "          verbose=0, warm_start=False)"
      ]
     },
     "execution_count": 16,
     "metadata": {},
     "output_type": "execute_result"
    }
   ],
   "source": [
    "# Performance modele regression logistique\n",
    "from sklearn.linear_model import LogisticRegression\n",
    "logReg = LogisticRegression(C=0.01)\n",
    "logReg.fit(X,Y)"
   ]
  },
  {
   "cell_type": "code",
   "execution_count": 17,
   "metadata": {},
   "outputs": [
    {
     "name": "stdout",
     "output_type": "stream",
     "text": [
      "0.7229643765903307\n"
     ]
    }
   ],
   "source": [
    "print (logReg.score(X,Y))"
   ]
  },
  {
   "cell_type": "code",
   "execution_count": 10,
   "metadata": {
    "collapsed": true
   },
   "outputs": [],
   "source": [
    "Y_pred_test = logReg.predict(X_test)"
   ]
  },
  {
   "cell_type": "code",
   "execution_count": 11,
   "metadata": {},
   "outputs": [
    {
     "name": "stdout",
     "output_type": "stream",
     "text": [
      "0.724960254372019\n"
     ]
    }
   ],
   "source": [
    "from sklearn.metrics import accuracy_score\n",
    "print(accuracy_score(Y_test,Y_pred_test))"
   ]
  },
  {
   "cell_type": "code",
   "execution_count": 20,
   "metadata": {
    "collapsed": true
   },
   "outputs": [],
   "source": [
    "dfTest = pd.read_csv('test.csv')"
   ]
  },
  {
   "cell_type": "code",
   "execution_count": 21,
   "metadata": {},
   "outputs": [],
   "source": [
    "\n",
    "X_Test = dfTest.values\n",
    "X_Test = X_Test[:,15830:15841]"
   ]
  },
  {
   "cell_type": "code",
   "execution_count": 22,
   "metadata": {
    "collapsed": true
   },
   "outputs": [],
   "source": [
    "\n",
    "Y_pred_test = logReg.predict(X_Test)\n"
   ]
  },
  {
   "cell_type": "code",
   "execution_count": 23,
   "metadata": {
    "collapsed": true
   },
   "outputs": [],
   "source": [
    "X_entier = dfTest.values\n",
    "Y_essai = np.array([X_entier[:,0],Y_pred_test])"
   ]
  },
  {
   "cell_type": "code",
   "execution_count": 24,
   "metadata": {
    "collapsed": true
   },
   "outputs": [],
   "source": [
    "Y_essai = Y_essai.T"
   ]
  },
  {
   "cell_type": "code",
   "execution_count": 25,
   "metadata": {},
   "outputs": [
    {
     "name": "stdout",
     "output_type": "stream",
     "text": [
      "[[  781     1]\n",
      " [  914     0]\n",
      " [12795     0]\n",
      " ...\n",
      " [11199     1]\n",
      " [17432     0]\n",
      " [ 4234     1]]\n"
     ]
    }
   ],
   "source": [
    "print(Y_essai)"
   ]
  },
  {
   "cell_type": "code",
   "execution_count": 26,
   "metadata": {
    "collapsed": true
   },
   "outputs": [],
   "source": [
    "np.savetxt('essaiUneSeconde.csv', Y_essai, delimiter=';',fmt='%i', header=\"ID;label\")"
   ]
  }
 ],
 "metadata": {
  "kernelspec": {
   "display_name": "Python 3",
   "language": "python",
   "name": "python3"
  },
  "language_info": {
   "codemirror_mode": {
    "name": "ipython",
    "version": 3
   },
   "file_extension": ".py",
   "mimetype": "text/x-python",
   "name": "python",
   "nbconvert_exporter": "python",
   "pygments_lexer": "ipython3",
   "version": "3.5.6"
  }
 },
 "nbformat": 4,
 "nbformat_minor": 2
}
