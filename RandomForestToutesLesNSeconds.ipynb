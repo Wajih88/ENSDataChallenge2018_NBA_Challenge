{
 "cells": [
  {
   "cell_type": "code",
   "execution_count": 1,
   "metadata": {},
   "outputs": [],
   "source": [
    "# les packages necessaires\n",
    "import numpy as np\n",
    "import pandas as pd\n",
    "import matplotlib.pyplot as plt"
   ]
  },
  {
   "cell_type": "code",
   "execution_count": 2,
   "metadata": {},
   "outputs": [],
   "source": [
    "df = pd.read_csv('train.csv')\n",
    "\n",
    "X = df.values\n"
   ]
  },
  {
   "cell_type": "code",
   "execution_count": 3,
   "metadata": {},
   "outputs": [],
   "source": [
    "maliste = []\n",
    "N = 10\n",
    "# On va prendre les valeurs toutes les N secondes\n",
    "for i in range(11*(N-1) + 1,15841,11*N):\n",
    "    maliste = maliste + list(range(i,i+11))"
   ]
  },
  {
   "cell_type": "code",
   "execution_count": 4,
   "metadata": {},
   "outputs": [],
   "source": [
    "X = X[:,maliste]"
   ]
  },
  {
   "cell_type": "code",
   "execution_count": 5,
   "metadata": {},
   "outputs": [],
   "source": [
    "dfy = pd.read_csv('challenge_output_data_training_file_nba_challenge.csv',sep=';')\n",
    "Y = dfy.values\n",
    "Y = Y[:,1]"
   ]
  },
  {
   "cell_type": "code",
   "execution_count": 7,
   "metadata": {},
   "outputs": [],
   "source": [
    "from sklearn.model_selection import train_test_split\n",
    "X_train,X_test,Y_train,Y_test = train_test_split(X,Y,test_size = 0.2)"
   ]
  },
  {
   "cell_type": "code",
   "execution_count": 6,
   "metadata": {},
   "outputs": [],
   "source": [
    "from sklearn.ensemble import RandomForestClassifier\n",
    "from sklearn.metrics import accuracy_score"
   ]
  },
  {
   "cell_type": "code",
   "execution_count": 10,
   "metadata": {},
   "outputs": [
    {
     "name": "stdout",
     "output_type": "stream",
     "text": [
      "1\n",
      "2\n",
      "3\n",
      "4\n",
      "5\n",
      "6\n",
      "7\n",
      "8\n",
      "9\n",
      "10\n",
      "11\n",
      "12\n",
      "13\n",
      "14\n",
      "15\n",
      "16\n",
      "17\n",
      "18\n",
      "19\n",
      "20\n",
      "21\n",
      "22\n",
      "23\n",
      "24\n",
      "25\n",
      "26\n",
      "27\n",
      "28\n",
      "29\n",
      "30\n",
      "31\n",
      "32\n",
      "33\n",
      "34\n",
      "35\n",
      "36\n",
      "37\n",
      "38\n",
      "39\n"
     ]
    },
    {
     "data": {
      "text/plain": [
       "<matplotlib.legend.Legend at 0x2498d231128>"
      ]
     },
     "execution_count": 10,
     "metadata": {},
     "output_type": "execute_result"
    },
    {
     "data": {
      "image/png": "[encoded data removed]",
      "text/plain": [
       "<Figure size 432x288 with 1 Axes>"
      ]
     },
     "metadata": {
      "needs_background": "light"
     },
     "output_type": "display_data"
    }
   ],
   "source": [
    "N = 40\n",
    "accuracy_train = np.zeros((N))\n",
    "accuracy_test = np.zeros((N))\n",
    "for i in range(1,N):\n",
    "    print(i)\n",
    "    rfc = RandomForestClassifier(n_estimators = 2500,max_depth= i)\n",
    "    rfc.fit(X_train,Y_train)\n",
    "    accuracy_train[i] = accuracy_score(Y_train,rfc.predict(X_train))\n",
    "    predictions = rfc.predict(X_test)\n",
    "    accuracy_test[i] = accuracy_score(Y_test,predictions)\n",
    "plt.plot(accuracy_train,label = 'training')\n",
    "plt.plot(accuracy_test, label = 'test')\n",
    "plt.legend()"
   ]
  },
  {
   "cell_type": "code",
   "execution_count": 11,
   "metadata": {},
   "outputs": [
    {
     "name": "stdout",
     "output_type": "stream",
     "text": [
      "0.7412559618441972\n",
      "30\n"
     ]
    }
   ],
   "source": [
    "print(accuracy_test.max())\n",
    "print(accuracy_test.argmax())"
   ]
  },
  {
   "cell_type": "code",
   "execution_count": 7,
   "metadata": {},
   "outputs": [
    {
     "name": "stdout",
     "output_type": "stream",
     "text": [
      "[0 0 0 ... 1 0 1]\n"
     ]
    }
   ],
   "source": [
    "# Learning random forest on the whole data set\n",
    "RandomForestAll = RandomForestClassifier(n_estimators = 5000,max_depth=30)\n",
    "RandomForestAll.fit(X,Y)\n",
    "dfTest = pd.read_csv('test.csv')\n",
    "X_Test_All = dfTest.values\n",
    "X_Test_All = X_Test_All[:,maliste]\n",
    "Y_pred_test = RandomForestAll.predict(X_Test_All)\n",
    "print(Y_pred_test)"
   ]
  },
  {
   "cell_type": "code",
   "execution_count": 10,
   "metadata": {},
   "outputs": [],
   "source": [
    "X_entier = dfTest.values\n",
    "Y_essai = np.array([X_entier[:,0],Y_pred_test])\n",
    "Y_essai = Y_essai.T\n",
    "np.savetxt('essai10Seconds5000RandomForest30Depth.csv', Y_essai, delimiter=';',fmt='%i', header=\"ID;label\")"
   ]
  },
  {
   "cell_type": "code",
   "execution_count": 12,
   "metadata": {},
   "outputs": [
    {
     "data": {
      "text/plain": [
       "(4192, 2)"
      ]
     },
     "execution_count": 12,
     "metadata": {},
     "output_type": "execute_result"
    }
   ],
   "source": [
    "Y_essai.shape"
   ]
  }
 ],
 "metadata": {
  "kernelspec": {
   "display_name": "Python 3",
   "language": "python",
   "name": "python3"
  },
  "language_info": {
   "codemirror_mode": {
    "name": "ipython",
    "version": 3
   },
   "file_extension": ".py",
   "mimetype": "text/x-python",
   "name": "python",
   "nbconvert_exporter": "python",
   "pygments_lexer": "ipython3",
   "version": "3.5.6"
  }
 },
 "nbformat": 4,
 "nbformat_minor": 2
}
