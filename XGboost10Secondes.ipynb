{
 "cells": [
  {
   "cell_type": "code",
   "execution_count": 1,
   "metadata": {},
   "outputs": [],
   "source": [
    "# les packages necessaires\n",
    "import numpy as np\n",
    "import pandas as pd\n",
    "import matplotlib.pyplot as plt"
   ]
  },
  {
   "cell_type": "code",
   "execution_count": 2,
   "metadata": {},
   "outputs": [],
   "source": [
    "df = pd.read_csv('train.csv')\n",
    "\n",
    "X = df.values"
   ]
  },
  {
   "cell_type": "code",
   "execution_count": 3,
   "metadata": {},
   "outputs": [],
   "source": [
    "maliste = []\n",
    "# On va prendre les valeurs toutes les 10 secondes\n",
    "for i in range(100,15841,110):\n",
    "    maliste = maliste + list(range(i,i+11))"
   ]
  },
  {
   "cell_type": "code",
   "execution_count": 4,
   "metadata": {},
   "outputs": [],
   "source": [
    "X = X[:,maliste]"
   ]
  },
  {
   "cell_type": "code",
   "execution_count": 5,
   "metadata": {},
   "outputs": [],
   "source": [
    "dfy = pd.read_csv('challenge_output_data_training_file_nba_challenge.csv',sep=';')\n",
    "Y = dfy.values\n",
    "Y = Y[:,1]"
   ]
  },
  {
   "cell_type": "code",
   "execution_count": 6,
   "metadata": {},
   "outputs": [],
   "source": [
    "from sklearn.model_selection import train_test_split\n",
    "X_train,X_test,Y_train,Y_test = train_test_split(X,Y,test_size = 0.2)"
   ]
  },
  {
   "cell_type": "code",
   "execution_count": 6,
   "metadata": {},
   "outputs": [],
   "source": [
    "from xgboost import XGBClassifier\n",
    "from sklearn.metrics import accuracy_score"
   ]
  },
  {
   "cell_type": "code",
   "execution_count": 12,
   "metadata": {},
   "outputs": [
    {
     "name": "stdout",
     "output_type": "stream",
     "text": [
      "0.7360890302066773\n",
      "643\n"
     ]
    }
   ],
   "source": [
    "N = 1000\n",
    "accuracy_test = np.zeros((N))\n",
    "for i in range(N):\n",
    "    model = XGBClassifier(n_estimators=i+1)\n",
    "    model.fit(X_train, Y_train)\n",
    "    predictions = model.predict(X_test)\n",
    "    accuracy_test[i] = accuracy_score(Y_test,predictions)\n",
    "print(accuracy_test.max())\n",
    "print(accuracy_test.argmax()+1)\n"
   ]
  },
  {
   "cell_type": "code",
   "execution_count": 7,
   "metadata": {},
   "outputs": [
    {
     "name": "stdout",
     "output_type": "stream",
     "text": [
      "[1 0 0 ... 1 0 1]\n"
     ]
    }
   ],
   "source": [
    "# Learning XGBoost on the whole data set\n",
    "# we found the best value via cross validation\n",
    "model = XGBClassifier(n_estimators = 1500)\n",
    "model.fit(X,Y)\n",
    "dfTest = pd.read_csv('test.csv')\n",
    "X_Test_All = dfTest.values\n",
    "X_Test_All = X_Test_All[:,maliste]\n",
    "Y_pred_test = model.predict(X_Test_All)\n",
    "print(Y_pred_test)"
   ]
  },
  {
   "cell_type": "code",
   "execution_count": 8,
   "metadata": {},
   "outputs": [],
   "source": [
    "X_entier = dfTest.values\n",
    "Y_essai = np.array([X_entier[:,0],Y_pred_test])\n",
    "Y_essai = Y_essai.T\n",
    "np.savetxt('essai10Seconds1500Xgboost.csv', Y_essai, delimiter=';',fmt='%i', header=\"ID;label\")"
   ]
  },
  {
   "cell_type": "code",
   "execution_count": null,
   "metadata": {},
   "outputs": [],
   "source": []
  }
 ],
 "metadata": {
  "kernelspec": {
   "display_name": "Python 3",
   "language": "python",
   "name": "python3"
  },
  "language_info": {
   "codemirror_mode": {
    "name": "ipython",
    "version": 3
   },
   "file_extension": ".py",
   "mimetype": "text/x-python",
   "name": "python",
   "nbconvert_exporter": "python",
   "pygments_lexer": "ipython3",
   "version": "3.5.6"
  }
 },
 "nbformat": 4,
 "nbformat_minor": 2
}
