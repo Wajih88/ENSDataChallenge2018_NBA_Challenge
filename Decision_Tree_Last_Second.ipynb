{
 "cells": [
  {
   "cell_type": "code",
   "execution_count": 6,
   "metadata": {},
   "outputs": [],
   "source": [
    "# les packages necessaires\n",
    "import numpy as np\n",
    "import pandas as pd\n",
    "import matplotlib.pyplot as plt"
   ]
  },
  {
   "cell_type": "code",
   "execution_count": 2,
   "metadata": {},
   "outputs": [],
   "source": [
    "df = pd.read_csv('train.csv')\n",
    "# we will try to learn from the last second\n",
    "X = df.values\n",
    "X = X[:,15830:15841]"
   ]
  },
  {
   "cell_type": "code",
   "execution_count": 3,
   "metadata": {},
   "outputs": [],
   "source": [
    "dfy = pd.read_csv('challenge_output_data_training_file_nba_challenge.csv',sep=';')\n",
    "Y = dfy.values\n",
    "Y = Y[:,1]"
   ]
  },
  {
   "cell_type": "code",
   "execution_count": 4,
   "metadata": {},
   "outputs": [],
   "source": [
    "from sklearn.model_selection import train_test_split\n",
    "X_train,X_test,Y_train,Y_test = train_test_split(X,Y,test_size = 0.2)"
   ]
  },
  {
   "cell_type": "code",
   "execution_count": 5,
   "metadata": {},
   "outputs": [],
   "source": [
    "from sklearn.tree import DecisionTreeClassifier\n",
    "from sklearn.metrics import accuracy_score"
   ]
  },
  {
   "cell_type": "code",
   "execution_count": 9,
   "metadata": {},
   "outputs": [],
   "source": [
    "# Using Decision Tree\n",
    "accuracy_train = np.zeros((11))\n",
    "accuracy_test = np.zeros((11))\n",
    "for i in range(1,12):\n",
    "    oneTree = DecisionTreeClassifier(max_depth = i)\n",
    "    oneTree.fit(X_train,Y_train)\n",
    "    accuracy_train[i-1] = accuracy_score(Y_train,oneTree.predict(X_train))\n",
    "    predictions = oneTree.predict(X_test)\n",
    "    accuracy_test[i-1] = accuracy_score(Y_test,predictions)\n"
   ]
  },
  {
   "cell_type": "code",
   "execution_count": 10,
   "metadata": {},
   "outputs": [
    {
     "data": {
      "text/plain": [
       "[<matplotlib.lines.Line2D at 0x25f8a791550>]"
      ]
     },
     "execution_count": 10,
     "metadata": {},
     "output_type": "execute_result"
    },
    {
     "data": {
      "image/png": "[encoded data removed]",
      "text/plain": [
       "<Figure size 432x288 with 1 Axes>"
      ]
     },
     "metadata": {
      "needs_background": "light"
     },
     "output_type": "display_data"
    }
   ],
   "source": [
    "plt.plot(accuracy_train)\n",
    "plt.plot(accuracy_test)"
   ]
  },
  {
   "cell_type": "code",
   "execution_count": 11,
   "metadata": {},
   "outputs": [
    {
     "name": "stdout",
     "output_type": "stream",
     "text": [
      "[0.6991256  0.6991256  0.71502385 0.71462639 0.70945946 0.70786963\n",
      " 0.70031797 0.70389507 0.70389507 0.70111288 0.69594595]\n"
     ]
    }
   ],
   "source": [
    "print(accuracy_test)"
   ]
  },
  {
   "cell_type": "code",
   "execution_count": 12,
   "metadata": {},
   "outputs": [
    {
     "name": "stdout",
     "output_type": "stream",
     "text": [
      "[1 0 0 ... 1 0 1]\n"
     ]
    }
   ],
   "source": [
    "# Learning decision tree on the whole data set\n",
    "oneTreeAll = DecisionTreeClassifier(max_depth = 3)\n",
    "oneTreeAll.fit(X,Y)\n",
    "dfTest = pd.read_csv('test.csv')\n",
    "X_Test_All = dfTest.values\n",
    "X_Test_All = X_Test_All[:,15830:15841]\n",
    "Y_pred_test = oneTreeAll.predict(X_Test_All)\n",
    "print(Y_pred_test)"
   ]
  },
  {
   "cell_type": "code",
   "execution_count": 13,
   "metadata": {},
   "outputs": [],
   "source": [
    "X_entier = dfTest.values\n",
    "Y_essai = np.array([X_entier[:,0],Y_pred_test])\n",
    "Y_essai = Y_essai.T\n",
    "np.savetxt('essaiUneSecondeDecisionTree.csv', Y_essai, delimiter=';',fmt='%i', header=\"ID;label\")"
   ]
  }
 ],
 "metadata": {
  "kernelspec": {
   "display_name": "Python 3",
   "language": "python",
   "name": "python3"
  },
  "language_info": {
   "codemirror_mode": {
    "name": "ipython",
    "version": 3
   },
   "file_extension": ".py",
   "mimetype": "text/x-python",
   "name": "python",
   "nbconvert_exporter": "python",
   "pygments_lexer": "ipython3",
   "version": "3.5.6"
  }
 },
 "nbformat": 4,
 "nbformat_minor": 2
}
