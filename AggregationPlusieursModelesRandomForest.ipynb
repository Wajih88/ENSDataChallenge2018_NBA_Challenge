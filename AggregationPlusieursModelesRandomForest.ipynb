{
 "cells": [
  {
   "cell_type": "code",
   "execution_count": 1,
   "metadata": {},
   "outputs": [],
   "source": [
    "import numpy as np\n",
    "import pandas as pd"
   ]
  },
  {
   "cell_type": "code",
   "execution_count": 2,
   "metadata": {},
   "outputs": [],
   "source": [
    "Y1 = pd.read_csv('essai10Seconds4000RandomForest30Depth.csv',sep=';').values\n",
    "Y2 = pd.read_csv('essai10Seconds101RandomForest.csv',sep=';').values\n",
    "Y3 = pd.read_csv('essai10Seconds956RandomForest.csv',sep=';').values\n",
    "Y4 = pd.read_csv('essai10Seconds1500RandomForest.csv',sep=';').values\n",
    "Y5 = pd.read_csv('essai10Seconds2500RandomForest.csv',sep=';').values\n",
    "Y6 = pd.read_csv('essai10Seconds2500RandomForest30Depth.csv',sep = ';').values"
   ]
  },
  {
   "cell_type": "code",
   "execution_count": 3,
   "metadata": {},
   "outputs": [],
   "source": [
    "DimensionTest = 4192\n",
    "DimensionVote = 6\n",
    "MatriceVote = np.zeros((DimensionTest,DimensionVote))"
   ]
  },
  {
   "cell_type": "code",
   "execution_count": 4,
   "metadata": {},
   "outputs": [],
   "source": [
    "MatriceVote[:,0] = Y1[:,1]\n",
    "MatriceVote[:,1] = Y2[:,1]\n",
    "MatriceVote[:,2] = Y3[:,1]\n",
    "MatriceVote[:,3] = Y4[:,1]\n",
    "MatriceVote[:,4] = Y5[:,1]\n",
    "MatriceVote[:,5] = Y6[:,1]"
   ]
  },
  {
   "cell_type": "code",
   "execution_count": 5,
   "metadata": {},
   "outputs": [],
   "source": [
    "MatriceVote = MatriceVote.astype(float)"
   ]
  },
  {
   "cell_type": "code",
   "execution_count": 6,
   "metadata": {},
   "outputs": [],
   "source": [
    "moyenne = np.mean(MatriceVote,axis = 1)\n",
    "for i in range(DimensionTest) :\n",
    "    if moyenne[i] > 0.5 :\n",
    "        moyenne[i] = 1\n",
    "    else:\n",
    "        moyenne[i] = 0"
   ]
  },
  {
   "cell_type": "code",
   "execution_count": 7,
   "metadata": {},
   "outputs": [],
   "source": [
    "dfTest = pd.read_csv('test.csv')\n",
    "X_entier = dfTest.values\n",
    "Y_essai = np.array([X_entier[:,0],moyenne])\n",
    "Y_essai = Y_essai.T"
   ]
  },
  {
   "cell_type": "code",
   "execution_count": 8,
   "metadata": {},
   "outputs": [
    {
     "name": "stdout",
     "output_type": "stream",
     "text": [
      "[[7.8100e+02 0.0000e+00]\n",
      " [9.1400e+02 0.0000e+00]\n",
      " [1.2795e+04 0.0000e+00]\n",
      " ...\n",
      " [1.1199e+04 1.0000e+00]\n",
      " [1.7432e+04 0.0000e+00]\n",
      " [4.2340e+03 1.0000e+00]]\n"
     ]
    }
   ],
   "source": [
    "print(Y_essai)"
   ]
  },
  {
   "cell_type": "code",
   "execution_count": 9,
   "metadata": {},
   "outputs": [],
   "source": [
    "np.savetxt('essai6Aggregation.csv', Y_essai, delimiter=';',fmt='%i', header=\"ID;label\")"
   ]
  },
  {
   "cell_type": "code",
   "execution_count": null,
   "metadata": {},
   "outputs": [],
   "source": []
  }
 ],
 "metadata": {
  "kernelspec": {
   "display_name": "Python 3",
   "language": "python",
   "name": "python3"
  },
  "language_info": {
   "codemirror_mode": {
    "name": "ipython",
    "version": 3
   },
   "file_extension": ".py",
   "mimetype": "text/x-python",
   "name": "python",
   "nbconvert_exporter": "python",
   "pygments_lexer": "ipython3",
   "version": "3.5.6"
  }
 },
 "nbformat": 4,
 "nbformat_minor": 2
}
