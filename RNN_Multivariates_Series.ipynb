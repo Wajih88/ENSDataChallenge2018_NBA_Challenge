{
 "cells": [
  {
   "cell_type": "code",
   "execution_count": 1,
   "metadata": {},
   "outputs": [],
   "source": [
    "import numpy as np\n",
    "import pandas as pd"
   ]
  },
  {
   "cell_type": "code",
   "execution_count": 2,
   "metadata": {},
   "outputs": [
    {
     "data": {
      "text/plain": [
       "(12576, 15841)"
      ]
     },
     "execution_count": 2,
     "metadata": {},
     "output_type": "execute_result"
    }
   ],
   "source": [
    "df = pd.read_csv('train.csv')\n",
    "Xtotal = df.values\n",
    "Xtotal.shape"
   ]
  },
  {
   "cell_type": "code",
   "execution_count": 3,
   "metadata": {},
   "outputs": [],
   "source": [
    "samples = Xtotal.shape[0]\n",
    "time_steps = 1440\n",
    "features = 11\n",
    "X = np.zeros((samples,time_steps,features))"
   ]
  },
  {
   "cell_type": "code",
   "execution_count": 4,
   "metadata": {},
   "outputs": [],
   "source": [
    "for i in range(features):\n",
    "    ma_liste = list(range(i+1,Xtotal.shape[1],11))\n",
    "    X[:,:,i] = Xtotal[:,ma_liste]"
   ]
  },
  {
   "cell_type": "code",
   "execution_count": 5,
   "metadata": {},
   "outputs": [
    {
     "data": {
      "text/plain": [
       "12576"
      ]
     },
     "execution_count": 5,
     "metadata": {},
     "output_type": "execute_result"
    }
   ],
   "source": [
    "dfy = pd.read_csv('challenge_output_data_training_file_nba_challenge.csv',sep=';')\n",
    "Y=dfy.values\n",
    "Y = Y[:,1]\n",
    "Y.size"
   ]
  },
  {
   "cell_type": "code",
   "execution_count": 6,
   "metadata": {},
   "outputs": [],
   "source": [
    "from sklearn.model_selection import train_test_split\n",
    "X_train, X_test, y_train,y_test = train_test_split(X,Y,test_size = 0.2)"
   ]
  },
  {
   "cell_type": "code",
   "execution_count": 7,
   "metadata": {},
   "outputs": [
    {
     "name": "stderr",
     "output_type": "stream",
     "text": [
      "Using TensorFlow backend.\n"
     ]
    }
   ],
   "source": [
    "# packages for deep learning\n",
    "from keras.models import Sequential\n",
    "from keras.layers import Dense\n",
    "from keras.layers import LSTM\n",
    "from keras.layers import Dropout\n",
    "from keras import regularizers"
   ]
  },
  {
   "cell_type": "code",
   "execution_count": 14,
   "metadata": {},
   "outputs": [
    {
     "name": "stdout",
     "output_type": "stream",
     "text": [
      "_________________________________________________________________\n",
      "Layer (type)                 Output Shape              Param #   \n",
      "=================================================================\n",
      "lstm_2 (LSTM)                (None, 300)               374400    \n",
      "_________________________________________________________________\n",
      "dropout_2 (Dropout)          (None, 300)               0         \n",
      "_________________________________________________________________\n",
      "dense_2 (Dense)              (None, 1)                 301       \n",
      "=================================================================\n",
      "Total params: 374,701\n",
      "Trainable params: 374,701\n",
      "Non-trainable params: 0\n",
      "_________________________________________________________________\n",
      "None\n"
     ]
    }
   ],
   "source": [
    "model = Sequential()\n",
    "model.add(LSTM(300,input_shape=(time_steps, features)))\n",
    "model.add(Dropout(0.4))\n",
    "model.add(Dense(1, activation='sigmoid',kernel_regularizer=regularizers.l2(0.001)))\n",
    "model.compile(loss='binary_crossentropy', optimizer='adam', metrics=['accuracy'])\n",
    "print(model.summary())"
   ]
  },
  {
   "cell_type": "code",
   "execution_count": 16,
   "metadata": {},
   "outputs": [
    {
     "name": "stdout",
     "output_type": "stream",
     "text": [
      "Epoch 1/30\n",
      "10060/10060 [==============================] - 564s 56ms/step - loss: 0.5509 - acc: 0.7147\n",
      "Epoch 2/30\n",
      "10060/10060 [==============================] - 527s 52ms/step - loss: 0.5436 - acc: 0.7162\n",
      "Epoch 3/30\n",
      "10060/10060 [==============================] - 512s 51ms/step - loss: 0.5409 - acc: 0.7170\n",
      "Epoch 4/30\n",
      "10060/10060 [==============================] - 519s 52ms/step - loss: 0.5408 - acc: 0.7163\n",
      "Epoch 5/30\n",
      "10060/10060 [==============================] - 515s 51ms/step - loss: 0.5378 - acc: 0.7206\n",
      "Epoch 6/30\n",
      "10060/10060 [==============================] - 516s 51ms/step - loss: 0.5403 - acc: 0.7204\n",
      "Epoch 7/30\n",
      "10060/10060 [==============================] - 512s 51ms/step - loss: 0.5368 - acc: 0.7237\n",
      "Epoch 8/30\n",
      "10060/10060 [==============================] - 512s 51ms/step - loss: 0.5403 - acc: 0.7164\n",
      "Epoch 9/30\n",
      "10060/10060 [==============================] - 512s 51ms/step - loss: 0.5426 - acc: 0.7200\n",
      "Epoch 10/30\n",
      "10060/10060 [==============================] - 514s 51ms/step - loss: 0.5401 - acc: 0.7189\n",
      "Epoch 11/30\n",
      "10060/10060 [==============================] - 513s 51ms/step - loss: 0.5391 - acc: 0.7181\n",
      "Epoch 12/30\n",
      "10060/10060 [==============================] - 512s 51ms/step - loss: 0.5412 - acc: 0.7167\n",
      "Epoch 13/30\n",
      "10060/10060 [==============================] - 514s 51ms/step - loss: 0.5384 - acc: 0.7191\n",
      "Epoch 14/30\n",
      "10060/10060 [==============================] - 512s 51ms/step - loss: 0.5375 - acc: 0.7199\n",
      "Epoch 15/30\n",
      "10060/10060 [==============================] - 513s 51ms/step - loss: 0.5350 - acc: 0.7227\n",
      "Epoch 16/30\n",
      "10060/10060 [==============================] - 515s 51ms/step - loss: 0.5337 - acc: 0.7208\n",
      "Epoch 17/30\n",
      "10060/10060 [==============================] - 513s 51ms/step - loss: 0.5465 - acc: 0.7142\n",
      "Epoch 18/30\n",
      "10060/10060 [==============================] - 514s 51ms/step - loss: 0.5388 - acc: 0.7182\n",
      "Epoch 19/30\n",
      "10060/10060 [==============================] - 518s 51ms/step - loss: 0.5347 - acc: 0.7214\n",
      "Epoch 20/30\n",
      "10060/10060 [==============================] - 514s 51ms/step - loss: 0.5347 - acc: 0.7207\n",
      "Epoch 21/30\n",
      "10060/10060 [==============================] - 513s 51ms/step - loss: 0.5377 - acc: 0.7192\n",
      "Epoch 22/30\n",
      "10060/10060 [==============================] - 513s 51ms/step - loss: 0.5335 - acc: 0.7217\n",
      "Epoch 23/30\n",
      "10060/10060 [==============================] - 514s 51ms/step - loss: 0.5336 - acc: 0.7210\n",
      "Epoch 24/30\n",
      "10060/10060 [==============================] - 522s 52ms/step - loss: 0.5337 - acc: 0.7213\n",
      "Epoch 25/30\n",
      "10060/10060 [==============================] - 513s 51ms/step - loss: 0.5333 - acc: 0.7241\n",
      "Epoch 26/30\n",
      "10060/10060 [==============================] - 512s 51ms/step - loss: 0.5325 - acc: 0.7223\n",
      "Epoch 27/30\n",
      "10060/10060 [==============================] - 515s 51ms/step - loss: 0.5343 - acc: 0.7217\n",
      "Epoch 28/30\n",
      "10060/10060 [==============================] - 512s 51ms/step - loss: 0.5342 - acc: 0.7265\n",
      "Epoch 29/30\n",
      "10060/10060 [==============================] - 513s 51ms/step - loss: 0.5334 - acc: 0.7235\n",
      "Epoch 30/30\n",
      "10060/10060 [==============================] - 516s 51ms/step - loss: 0.5342 - acc: 0.7226\n",
      "Accuracy: 73.37%\n"
     ]
    }
   ],
   "source": [
    "model.fit(X_train, y_train, epochs=30, batch_size=64)\n",
    "# Final evaluation of the model\n",
    "scores = model.evaluate(X_test, y_test, verbose=0)\n",
    "print(\"Accuracy: %.2f%%\" % (scores[1]*100))"
   ]
  },
  {
   "cell_type": "markdown",
   "metadata": {},
   "source": [
    "# Testing with 1s as time step"
   ]
  },
  {
   "cell_type": "code",
   "execution_count": 17,
   "metadata": {},
   "outputs": [],
   "source": [
    "Xtest = pd.read_csv('test.csv')\n",
    "Xtest = Xtest.values\n",
    "Xt = np.zeros((4192,time_steps,features))\n",
    "for i in range(features):\n",
    "    ma_liste = list(range(i+1,Xtotal.shape[1],11))\n",
    "    Xt[:,:,i] = Xtest[:,ma_liste]"
   ]
  },
  {
   "cell_type": "code",
   "execution_count": 18,
   "metadata": {},
   "outputs": [],
   "source": [
    "Yt = model.predict(Xt)\n",
    "for i in range(4192):\n",
    "    if Yt[i] > 0.5 :\n",
    "        Yt[i] = 1\n",
    "    else:\n",
    "        Yt[i] = 0\n",
    "Y_essai = np.array([Xtest[:,0],Yt.reshape(4192,)])\n",
    "Y_essai = Y_essai.T\n",
    "np.savetxt('multivariateAllSec.csv', Y_essai, delimiter=';',fmt='%i', header=\"ID;label\")"
   ]
  },
  {
   "cell_type": "markdown",
   "metadata": {
    "collapsed": true
   },
   "source": [
    "# Testing with 10s as time steps"
   ]
  },
  {
   "cell_type": "code",
   "execution_count": 6,
   "metadata": {},
   "outputs": [
    {
     "data": {
      "text/plain": [
       "(12576, 144, 11)"
      ]
     },
     "execution_count": 6,
     "metadata": {},
     "output_type": "execute_result"
    }
   ],
   "source": [
    "liste10 = list(range(0,time_steps,10))\n",
    "X10 = X[:,liste10,:]\n",
    "X10.shape"
   ]
  },
  {
   "cell_type": "code",
   "execution_count": 7,
   "metadata": {},
   "outputs": [
    {
     "name": "stderr",
     "output_type": "stream",
     "text": [
      "Using TensorFlow backend.\n"
     ]
    }
   ],
   "source": [
    "# packages for deep learning\n",
    "from keras.models import Sequential\n",
    "from keras.layers import Dense\n",
    "from keras.layers import LSTM\n",
    "from keras.layers import Dropout\n",
    "from keras import regularizers"
   ]
  },
  {
   "cell_type": "code",
   "execution_count": 8,
   "metadata": {},
   "outputs": [
    {
     "name": "stdout",
     "output_type": "stream",
     "text": [
      "_________________________________________________________________\n",
      "Layer (type)                 Output Shape              Param #   \n",
      "=================================================================\n",
      "lstm_1 (LSTM)                (None, 144)               89856     \n",
      "_________________________________________________________________\n",
      "dropout_1 (Dropout)          (None, 144)               0         \n",
      "_________________________________________________________________\n",
      "dense_1 (Dense)              (None, 1)                 145       \n",
      "=================================================================\n",
      "Total params: 90,001\n",
      "Trainable params: 90,001\n",
      "Non-trainable params: 0\n",
      "_________________________________________________________________\n",
      "None\n"
     ]
    }
   ],
   "source": [
    "model = Sequential()\n",
    "model.add(LSTM(144,input_shape=(X10.shape[1], features)))\n",
    "model.add(Dropout(0.5))\n",
    "model.add(Dense(1, activation='sigmoid',kernel_regularizer=regularizers.l1(0.001)))\n",
    "model.compile(loss='binary_crossentropy', optimizer='adam', metrics=['accuracy'])\n",
    "print(model.summary())"
   ]
  },
  {
   "cell_type": "code",
   "execution_count": 9,
   "metadata": {
    "scrolled": true
   },
   "outputs": [
    {
     "name": "stdout",
     "output_type": "stream",
     "text": [
      "Epoch 1/40\n",
      "12576/12576 [==============================] - 69s 5ms/step - loss: 0.5757 - acc: 0.7075\n",
      "Epoch 2/40\n",
      "12576/12576 [==============================] - 53s 4ms/step - loss: 0.5566 - acc: 0.7216\n",
      "Epoch 3/40\n",
      "12576/12576 [==============================] - 54s 4ms/step - loss: 0.5500 - acc: 0.7263\n",
      "Epoch 4/40\n",
      "12576/12576 [==============================] - 54s 4ms/step - loss: 0.5465 - acc: 0.7209\n",
      "Epoch 5/40\n",
      "12576/12576 [==============================] - 54s 4ms/step - loss: 0.5433 - acc: 0.7256\n",
      "Epoch 6/40\n",
      "12576/12576 [==============================] - 54s 4ms/step - loss: 0.5411 - acc: 0.7285\n",
      "Epoch 7/40\n",
      "12576/12576 [==============================] - 55s 4ms/step - loss: 0.5394 - acc: 0.7292\n",
      "Epoch 8/40\n",
      "12576/12576 [==============================] - 55s 4ms/step - loss: 0.5378 - acc: 0.7301\n",
      "Epoch 9/40\n",
      "12576/12576 [==============================] - 56s 4ms/step - loss: 0.5312 - acc: 0.7373\n",
      "Epoch 10/40\n",
      "12576/12576 [==============================] - 55s 4ms/step - loss: 0.5323 - acc: 0.7401\n",
      "Epoch 11/40\n",
      "12576/12576 [==============================] - 54s 4ms/step - loss: 0.5293 - acc: 0.7366\n",
      "Epoch 12/40\n",
      "12576/12576 [==============================] - 53s 4ms/step - loss: 0.5268 - acc: 0.7431\n",
      "Epoch 13/40\n",
      "12576/12576 [==============================] - 52s 4ms/step - loss: 0.5249 - acc: 0.7443\n",
      "Epoch 14/40\n",
      "12576/12576 [==============================] - 52s 4ms/step - loss: 0.5209 - acc: 0.7475\n",
      "Epoch 15/40\n",
      "12576/12576 [==============================] - 52s 4ms/step - loss: 0.5137 - acc: 0.7524\n",
      "Epoch 16/40\n",
      "12576/12576 [==============================] - 52s 4ms/step - loss: 0.5082 - acc: 0.7580\n",
      "Epoch 17/40\n",
      " 4544/12576 [=========>....................] - ETA: 33s - loss: 0.4980 - acc: 0.7672"
     ]
    },
    {
     "ename": "KeyboardInterrupt",
     "evalue": "",
     "output_type": "error",
     "traceback": [
      "\u001b[1;31m---------------------------------------------------------------------------\u001b[0m",
      "\u001b[1;31mKeyboardInterrupt\u001b[0m                         Traceback (most recent call last)",
      "\u001b[1;32m<ipython-input-9-b95d0fec6152>\u001b[0m in \u001b[0;36m<module>\u001b[1;34m()\u001b[0m\n\u001b[1;32m----> 1\u001b[1;33m \u001b[0mmodel\u001b[0m\u001b[1;33m.\u001b[0m\u001b[0mfit\u001b[0m\u001b[1;33m(\u001b[0m\u001b[0mX10\u001b[0m\u001b[1;33m,\u001b[0m \u001b[0mY\u001b[0m\u001b[1;33m,\u001b[0m \u001b[0mepochs\u001b[0m\u001b[1;33m=\u001b[0m\u001b[1;36m40\u001b[0m\u001b[1;33m,\u001b[0m \u001b[0mbatch_size\u001b[0m\u001b[1;33m=\u001b[0m\u001b[1;36m64\u001b[0m\u001b[1;33m)\u001b[0m\u001b[1;33m\u001b[0m\u001b[0m\n\u001b[0m",
      "\u001b[1;32mD:\\Anaconda3\\lib\\site-packages\\keras\\engine\\training.py\u001b[0m in \u001b[0;36mfit\u001b[1;34m(self, x, y, batch_size, epochs, verbose, callbacks, validation_split, validation_data, shuffle, class_weight, sample_weight, initial_epoch, steps_per_epoch, validation_steps, **kwargs)\u001b[0m\n\u001b[0;32m   1037\u001b[0m                                         \u001b[0minitial_epoch\u001b[0m\u001b[1;33m=\u001b[0m\u001b[0minitial_epoch\u001b[0m\u001b[1;33m,\u001b[0m\u001b[1;33m\u001b[0m\u001b[0m\n\u001b[0;32m   1038\u001b[0m                                         \u001b[0msteps_per_epoch\u001b[0m\u001b[1;33m=\u001b[0m\u001b[0msteps_per_epoch\u001b[0m\u001b[1;33m,\u001b[0m\u001b[1;33m\u001b[0m\u001b[0m\n\u001b[1;32m-> 1039\u001b[1;33m                                         validation_steps=validation_steps)\n\u001b[0m\u001b[0;32m   1040\u001b[0m \u001b[1;33m\u001b[0m\u001b[0m\n\u001b[0;32m   1041\u001b[0m     def evaluate(self, x=None, y=None,\n",
      "\u001b[1;32mD:\\Anaconda3\\lib\\site-packages\\keras\\engine\\training_arrays.py\u001b[0m in \u001b[0;36mfit_loop\u001b[1;34m(model, f, ins, out_labels, batch_size, epochs, verbose, callbacks, val_f, val_ins, shuffle, callback_metrics, initial_epoch, steps_per_epoch, validation_steps)\u001b[0m\n\u001b[0;32m    197\u001b[0m                     \u001b[0mins_batch\u001b[0m\u001b[1;33m[\u001b[0m\u001b[0mi\u001b[0m\u001b[1;33m]\u001b[0m \u001b[1;33m=\u001b[0m \u001b[0mins_batch\u001b[0m\u001b[1;33m[\u001b[0m\u001b[0mi\u001b[0m\u001b[1;33m]\u001b[0m\u001b[1;33m.\u001b[0m\u001b[0mtoarray\u001b[0m\u001b[1;33m(\u001b[0m\u001b[1;33m)\u001b[0m\u001b[1;33m\u001b[0m\u001b[0m\n\u001b[0;32m    198\u001b[0m \u001b[1;33m\u001b[0m\u001b[0m\n\u001b[1;32m--> 199\u001b[1;33m                 \u001b[0mouts\u001b[0m \u001b[1;33m=\u001b[0m \u001b[0mf\u001b[0m\u001b[1;33m(\u001b[0m\u001b[0mins_batch\u001b[0m\u001b[1;33m)\u001b[0m\u001b[1;33m\u001b[0m\u001b[0m\n\u001b[0m\u001b[0;32m    200\u001b[0m                 \u001b[0mouts\u001b[0m \u001b[1;33m=\u001b[0m \u001b[0mto_list\u001b[0m\u001b[1;33m(\u001b[0m\u001b[0mouts\u001b[0m\u001b[1;33m)\u001b[0m\u001b[1;33m\u001b[0m\u001b[0m\n\u001b[0;32m    201\u001b[0m                 \u001b[1;32mfor\u001b[0m \u001b[0ml\u001b[0m\u001b[1;33m,\u001b[0m \u001b[0mo\u001b[0m \u001b[1;32min\u001b[0m \u001b[0mzip\u001b[0m\u001b[1;33m(\u001b[0m\u001b[0mout_labels\u001b[0m\u001b[1;33m,\u001b[0m \u001b[0mouts\u001b[0m\u001b[1;33m)\u001b[0m\u001b[1;33m:\u001b[0m\u001b[1;33m\u001b[0m\u001b[0m\n",
      "\u001b[1;32mD:\\Anaconda3\\lib\\site-packages\\keras\\backend\\tensorflow_backend.py\u001b[0m in \u001b[0;36m__call__\u001b[1;34m(self, inputs)\u001b[0m\n\u001b[0;32m   2713\u001b[0m                 \u001b[1;32mreturn\u001b[0m \u001b[0mself\u001b[0m\u001b[1;33m.\u001b[0m\u001b[0m_legacy_call\u001b[0m\u001b[1;33m(\u001b[0m\u001b[0minputs\u001b[0m\u001b[1;33m)\u001b[0m\u001b[1;33m\u001b[0m\u001b[0m\n\u001b[0;32m   2714\u001b[0m \u001b[1;33m\u001b[0m\u001b[0m\n\u001b[1;32m-> 2715\u001b[1;33m             \u001b[1;32mreturn\u001b[0m \u001b[0mself\u001b[0m\u001b[1;33m.\u001b[0m\u001b[0m_call\u001b[0m\u001b[1;33m(\u001b[0m\u001b[0minputs\u001b[0m\u001b[1;33m)\u001b[0m\u001b[1;33m\u001b[0m\u001b[0m\n\u001b[0m\u001b[0;32m   2716\u001b[0m         \u001b[1;32melse\u001b[0m\u001b[1;33m:\u001b[0m\u001b[1;33m\u001b[0m\u001b[0m\n\u001b[0;32m   2717\u001b[0m             \u001b[1;32mif\u001b[0m \u001b[0mpy_any\u001b[0m\u001b[1;33m(\u001b[0m\u001b[0mis_tensor\u001b[0m\u001b[1;33m(\u001b[0m\u001b[0mx\u001b[0m\u001b[1;33m)\u001b[0m \u001b[1;32mfor\u001b[0m \u001b[0mx\u001b[0m \u001b[1;32min\u001b[0m \u001b[0minputs\u001b[0m\u001b[1;33m)\u001b[0m\u001b[1;33m:\u001b[0m\u001b[1;33m\u001b[0m\u001b[0m\n",
      "\u001b[1;32mD:\\Anaconda3\\lib\\site-packages\\keras\\backend\\tensorflow_backend.py\u001b[0m in \u001b[0;36m_call\u001b[1;34m(self, inputs)\u001b[0m\n\u001b[0;32m   2673\u001b[0m             \u001b[0mfetched\u001b[0m \u001b[1;33m=\u001b[0m \u001b[0mself\u001b[0m\u001b[1;33m.\u001b[0m\u001b[0m_callable_fn\u001b[0m\u001b[1;33m(\u001b[0m\u001b[1;33m*\u001b[0m\u001b[0marray_vals\u001b[0m\u001b[1;33m,\u001b[0m \u001b[0mrun_metadata\u001b[0m\u001b[1;33m=\u001b[0m\u001b[0mself\u001b[0m\u001b[1;33m.\u001b[0m\u001b[0mrun_metadata\u001b[0m\u001b[1;33m)\u001b[0m\u001b[1;33m\u001b[0m\u001b[0m\n\u001b[0;32m   2674\u001b[0m         \u001b[1;32melse\u001b[0m\u001b[1;33m:\u001b[0m\u001b[1;33m\u001b[0m\u001b[0m\n\u001b[1;32m-> 2675\u001b[1;33m             \u001b[0mfetched\u001b[0m \u001b[1;33m=\u001b[0m \u001b[0mself\u001b[0m\u001b[1;33m.\u001b[0m\u001b[0m_callable_fn\u001b[0m\u001b[1;33m(\u001b[0m\u001b[1;33m*\u001b[0m\u001b[0marray_vals\u001b[0m\u001b[1;33m)\u001b[0m\u001b[1;33m\u001b[0m\u001b[0m\n\u001b[0m\u001b[0;32m   2676\u001b[0m         \u001b[1;32mreturn\u001b[0m \u001b[0mfetched\u001b[0m\u001b[1;33m[\u001b[0m\u001b[1;33m:\u001b[0m\u001b[0mlen\u001b[0m\u001b[1;33m(\u001b[0m\u001b[0mself\u001b[0m\u001b[1;33m.\u001b[0m\u001b[0moutputs\u001b[0m\u001b[1;33m)\u001b[0m\u001b[1;33m]\u001b[0m\u001b[1;33m\u001b[0m\u001b[0m\n\u001b[0;32m   2677\u001b[0m \u001b[1;33m\u001b[0m\u001b[0m\n",
      "\u001b[1;32mD:\\Anaconda3\\lib\\site-packages\\tensorflow\\python\\client\\session.py\u001b[0m in \u001b[0;36m__call__\u001b[1;34m(self, *args, **kwargs)\u001b[0m\n\u001b[0;32m   1380\u001b[0m           ret = tf_session.TF_SessionRunCallable(\n\u001b[0;32m   1381\u001b[0m               \u001b[0mself\u001b[0m\u001b[1;33m.\u001b[0m\u001b[0m_session\u001b[0m\u001b[1;33m.\u001b[0m\u001b[0m_session\u001b[0m\u001b[1;33m,\u001b[0m \u001b[0mself\u001b[0m\u001b[1;33m.\u001b[0m\u001b[0m_handle\u001b[0m\u001b[1;33m,\u001b[0m \u001b[0margs\u001b[0m\u001b[1;33m,\u001b[0m \u001b[0mstatus\u001b[0m\u001b[1;33m,\u001b[0m\u001b[1;33m\u001b[0m\u001b[0m\n\u001b[1;32m-> 1382\u001b[1;33m               run_metadata_ptr)\n\u001b[0m\u001b[0;32m   1383\u001b[0m         \u001b[1;32mif\u001b[0m \u001b[0mrun_metadata\u001b[0m\u001b[1;33m:\u001b[0m\u001b[1;33m\u001b[0m\u001b[0m\n\u001b[0;32m   1384\u001b[0m           \u001b[0mproto_data\u001b[0m \u001b[1;33m=\u001b[0m \u001b[0mtf_session\u001b[0m\u001b[1;33m.\u001b[0m\u001b[0mTF_GetBuffer\u001b[0m\u001b[1;33m(\u001b[0m\u001b[0mrun_metadata_ptr\u001b[0m\u001b[1;33m)\u001b[0m\u001b[1;33m\u001b[0m\u001b[0m\n",
      "\u001b[1;31mKeyboardInterrupt\u001b[0m: "
     ]
    }
   ],
   "source": [
    "model.fit(X10, Y, epochs=40, batch_size=64)"
   ]
  },
  {
   "cell_type": "code",
   "execution_count": 10,
   "metadata": {},
   "outputs": [],
   "source": [
    "Xtest = pd.read_csv('test.csv')\n",
    "Xtest = Xtest.values\n",
    "Xt = np.zeros((4192,time_steps,features))\n",
    "for i in range(features):\n",
    "    ma_liste = list(range(i+1,Xtotal.shape[1],11))\n",
    "    Xt[:,:,i] = Xtest[:,ma_liste]\n",
    "Xt10 = Xt[:,liste10,:]\n",
    "Yt10 = model.predict(Xt10)\n",
    "for i in range(4192):\n",
    "    if Yt10[i] > 0.5 :\n",
    "        Yt10[i] = 1\n",
    "    else:\n",
    "        Yt10[i] = 0\n",
    "Y_essai = np.array([Xtest[:,0],Yt10.reshape(4192,)])\n",
    "Y_essai = Y_essai.T\n",
    "np.savetxt('multivariate10Sec.csv', Y_essai, delimiter=';',fmt='%i', header=\"ID;label\")"
   ]
  },
  {
   "cell_type": "code",
   "execution_count": 13,
   "metadata": {},
   "outputs": [
    {
     "name": "stdout",
     "output_type": "stream",
     "text": [
      "1\n"
     ]
    }
   ],
   "source": []
  }
 ],
 "metadata": {
  "kernelspec": {
   "display_name": "Python 3",
   "language": "python",
   "name": "python3"
  },
  "language_info": {
   "codemirror_mode": {
    "name": "ipython",
    "version": 3
   },
   "file_extension": ".py",
   "mimetype": "text/x-python",
   "name": "python",
   "nbconvert_exporter": "python",
   "pygments_lexer": "ipython3",
   "version": "3.5.6"
  }
 },
 "nbformat": 4,
 "nbformat_minor": 2
}
